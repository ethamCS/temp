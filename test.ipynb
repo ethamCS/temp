{
  "nbformat": 4,
  "nbformat_minor": 0,
  "metadata": {
    "colab": {
      "name": "Untitled6.ipynb",
      "provenance": [],
      "collapsed_sections": [],
      "authorship_tag": "ABX9TyO1E00uDc1WL7oFT/VClPyb",
      "include_colab_link": true
    },
    "kernelspec": {
      "name": "python3",
      "display_name": "Python 3"
    },
    "language_info": {
      "name": "python"
    }
  },
  "cells": [
    {
      "cell_type": "markdown",
      "metadata": {
        "id": "view-in-github",
        "colab_type": "text"
      },
      "source": [
        "<a href=\"https://colab.research.google.com/github/ethamCS/temp/blob/main/test.ipynb\" target=\"_parent\"><img src=\"https://colab.research.google.com/assets/colab-badge.svg\" alt=\"Open In Colab\"/></a>"
      ]
    },
    {
      "cell_type": "code",
      "execution_count": 41,
      "metadata": {
        "colab": {
          "base_uri": "https://localhost:8080/",
          "height": 76
        },
        "id": "9cH2eLgsElnG",
        "outputId": "87bd470a-3dad-4b79-fc5e-639d55a2a941"
      },
      "outputs": [
        {
          "output_type": "stream",
          "name": "stdout",
          "text": [
            "There are %2 CPUs\n"
          ]
        },
        {
          "output_type": "display_data",
          "data": {
            "text/plain": [
              "<IPython.core.display.Javascript object>"
            ],
            "application/javascript": [
              "\n",
              "    async function download(id, filename, size) {\n",
              "      if (!google.colab.kernel.accessAllowed) {\n",
              "        return;\n",
              "      }\n",
              "      const div = document.createElement('div');\n",
              "      const label = document.createElement('label');\n",
              "      label.textContent = `Downloading \"${filename}\": `;\n",
              "      div.appendChild(label);\n",
              "      const progress = document.createElement('progress');\n",
              "      progress.max = size;\n",
              "      div.appendChild(progress);\n",
              "      document.body.appendChild(div);\n",
              "\n",
              "      const buffers = [];\n",
              "      let downloaded = 0;\n",
              "\n",
              "      const channel = await google.colab.kernel.comms.open(id);\n",
              "      // Send a message to notify the kernel that we're ready.\n",
              "      channel.send({})\n",
              "\n",
              "      for await (const message of channel.messages) {\n",
              "        // Send a message to notify the kernel that we're ready.\n",
              "        channel.send({})\n",
              "        if (message.buffers) {\n",
              "          for (const buffer of message.buffers) {\n",
              "            buffers.push(buffer);\n",
              "            downloaded += buffer.byteLength;\n",
              "            progress.value = downloaded;\n",
              "          }\n",
              "        }\n",
              "      }\n",
              "      const blob = new Blob(buffers, {type: 'application/binary'});\n",
              "      const a = document.createElement('a');\n",
              "      a.href = window.URL.createObjectURL(blob);\n",
              "      a.download = filename;\n",
              "      div.appendChild(a);\n",
              "      a.click();\n",
              "      div.remove();\n",
              "    }\n",
              "  "
            ]
          },
          "metadata": {}
        },
        {
          "output_type": "display_data",
          "data": {
            "text/plain": [
              "<IPython.core.display.Javascript object>"
            ],
            "application/javascript": [
              "download(\"download_f09d6bc0-4d06-41fc-baa0-0f5750859b8d\", \"final.csv\", 66861)"
            ]
          },
          "metadata": {}
        }
      ],
      "source": [
        "\n",
        "\n",
        "\n",
        "import os\n",
        "import pandas as pd \n",
        "import multiprocessing \n",
        "from multiprocessing import Pool\n",
        "from google.colab import files\n",
        "\n",
        "def read_csv(filename):\n",
        "    return pd.read_csv(filename)\n",
        "    \n",
        "# download csv to google colab local storage\n",
        "def download_csv():\n",
        "  return files.download(\"final.csv\") \n",
        "\n",
        "def main():\n",
        "    #find num of cpu for multiprocessing\n",
        "    numberOfCPUs = multiprocessing.cpu_count()\n",
        "    print('There are %{0} CPUs'.format(numberOfCPUs))\n",
        "   \n",
        "    #convert xlsx to csv\n",
        "    data_xls = pd.read_excel(\"LabData.xlsx\", dtype=str, index_col=None)\n",
        "    data_xls.to_csv('csvfile.csv', encoding='utf-8', index=False)\n",
        "\n",
        "    #get files\n",
        "    file = [\"SampleCollectionID.csv\", \"csvfile.csv\"]\n",
        "    file_list = [filename for filename in file if filename.split('.')[1]=='csv']\n",
        "\n",
        "    # set up pool\n",
        "    with Pool(processes=numberOfCPUs) as pool: \n",
        "\n",
        "        # map the file names to dataframes\n",
        "        df_list = pool.map(read_csv, file_list)\n",
        "\n",
        "        # reduce dataframes to a single dataframe\n",
        "        combined_df = pd.concat(df_list, ignore_index=True)\n",
        "        combined_df.to_csv('final.csv')\n",
        "       \n",
        "        # download_csv()\n",
        "\n",
        "if __name__ == '__main__':\n",
        "    main()"
      ]
    }
  ]
}